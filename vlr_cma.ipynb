{
 "cells": [
  {
   "cell_type": "code",
   "execution_count": 11,
   "metadata": {},
   "outputs": [],
   "source": [
    "import numpy as np\n",
    "import matplotlib.pyplot as plt\n",
    "from es import CMAES\n",
    "import FlightSimTVC\n",
    "import FlightSimAero\n",
    "import FlightSimAtt\n",
    "from scipy.spatial.transform import Rotation as R"
   ]
  },
  {
   "cell_type": "code",
   "execution_count": 12,
   "metadata": {},
   "outputs": [],
   "source": [
    "# Constants\n",
    "drop_height = 20                    # meters\n",
    "fin_area = 0.0065366                # area of one fin [m^2]\n",
    "lever_f = np.array([0,0,0.26])      # vector from cg of fin to cp (meters) 11/10/22\n",
    "lever_c = np.array([0,0,0.08671])   # vector from cg of body/legs/cap to cp (meters) KEEP SAME"
   ]
  },
  {
   "cell_type": "code",
   "execution_count": 13,
   "metadata": {},
   "outputs": [],
   "source": [
    "# Define main simulation function\n",
    "def simulate(t_ignite,Kp,Kd,drop_height,fin_area,lever_c,lever_f,wind,omega_init):\n",
    "\n",
    "    dt = 0.01                       # time step\n",
    "    t_sim = np.arange(0,4,dt)       # time range for simulation\n",
    "    loops = len(t_sim)              # number of steps\n",
    "\n",
    "    # arrays for collecting data\n",
    "    acc = np.zeros((loops,3))                   # acceleration vector of rocket\n",
    "    v = np.zeros((loops,3))                     # velocity vector of rocket      \n",
    "    p = np.zeros((loops,3))                     # position vector of rocket\n",
    "    q = np.zeros((loops,4))                     # quaternion of rocket attitude\n",
    "    omega = np.zeros((loops,3))                 # angular velocity of rocket\n",
    "    aero_torque = np.zeros((loops,3))\n",
    "    aero_force = np.zeros((loops,3))\n",
    "    thrust_force = np.zeros((loops,3))          # body frame\n",
    "    thrust_torque = np.zeros((loops,3))         # body frame\n",
    "    torque = np.zeros((loops,3))\n",
    "    z_i = np.zeros((loops,3))                   # unit vector of z axis of rocket in fixed frame\n",
    "    z_angle = np.zeros(loops)                   # rocket angle from vertical\n",
    "\n",
    "    # Initial Conditions\n",
    "    m = 0.95                                                # rocket initial mass (kg)\n",
    "    g = np.array([ 0, 0,-9.81])                             # gravitational acceleration (m/s^2), Z axis is up\n",
    "    acc[0,:] = g                                            # acceleration (m/s^2)\n",
    "    v[0,:] = np.array([0.00001,0.0000001,0.000001])         # velocity (m/s)\n",
    "    p[0,:] = np.array([0,0,drop_height])                    # position (m)\n",
    "    omega[0,:] = omega_init                                 # angular rate (rad/sec)\n",
    "    torque[0,:] = np.zeros(3)                               # (N-m)\n",
    "    \n",
    "\n",
    "    z_i[0,:] = np.zeros(3)\n",
    "\n",
    "    r = R.from_euler('ZYX',np.array([0, 0, 0]))\n",
    "    q0 = r.as_quat().T\n",
    "    q[0,:] = q0    \n",
    "\n",
    "    # Rocket model parameters\n",
    "    feet_area_v = (np.pi*0.025**2) * 4\n",
    "    legs_area_v = (0.03*0.14) *4\n",
    "    tube_circle = np.pi*0.04**2\n",
    "    base_area = feet_area_v+legs_area_v+tube_circle         # vertically projected area of rocket\n",
    "    legs_area_s = (0.01*0.160+0.05*0.06) *2\n",
    "    tube_diameter = 0.07874\n",
    "    length = 0.3302\n",
    "    tube_diameter = 0.07874\n",
    "    tube_side_area = length * tube_diameter\n",
    "    side_area = tube_side_area + 2*fin_area  + legs_area_s  # horizontally projected area of rocket\n",
    "\n",
    "\n",
    "    cd_base = 1.15                                          # drag coeff of rocket in pure vertical descent (experimentally determined)\n",
    "    cd_side = 1.28                                          # drag coeff of rocket in pure horizantal descent with 2 fins perpendicular to flow (approximated)\n",
    "\n",
    "    # Engine parameters for mass calculation\n",
    "    net_impulse = 13.8                      # net impulse from ThrustCurve.com (Ns)\n",
    "    m_propellant = 0.009                    # propellant of mass from ThrustCurve.com (kg)\n",
    "    Isp = net_impulse/(m_propellant*9.81)   # specific impulse (s)\n",
    "\n",
    "    # initialize servo servo angles\n",
    "    phi_save = np.zeros(loops)\n",
    "    theta_save = np.zeros(loops)\n",
    "\n",
    "    # create attitude_simulator object \n",
    "    att_sim_obj = FlightSimAtt.attitude_simulator( q[0,:], omega[0,:], dt )\n",
    "\n",
    "    # create aero_simulator object\n",
    "    aero_sim_obj = FlightSimAero.aero_simulator( lever_f, lever_c, fin_area, side_area)\n",
    "\n",
    "    # create tvc_simulator object\n",
    "    tvc_sim_obj = FlightSimTVC.tvc_simulator(dt,Kp,Kd)\n",
    "    burn_time = tvc_sim_obj.t_thrust[-1]\n",
    "\n",
    "\n",
    "    # loop through time step and simulate dynamics\n",
    "    i = 0     # index i tracks simulation time step\n",
    "    j = 0     # index j tracks time step within thrust curve\n",
    "    while i < loops-1:\n",
    "\n",
    "        #------- run attitude simulator --------%\n",
    "        # this updates the rocket orientation for the next time step\n",
    "        att_sim_obj.att_RK4( torque[i,:] )\n",
    "        omega[i+1,:] = att_sim_obj.w\n",
    "        q[i+1,:] = att_sim_obj.q\n",
    "        rot = R.as_matrix(R.from_quat([q[i+1,1],q[i+1,2],q[i+1,3],q[i+1,0]]))\n",
    "    \n",
    "        #-------- run aero simulator --------%\n",
    "        aero_torque[i,:], aero_force[i,:], z_i[i,:], z_angle[i] = aero_sim_obj.aero_3d( rot, v[i,:], omega[i,:], q[i,:],cd_base, cd_side, base_area, side_area, wind )\n",
    "\n",
    "        #-------- free fall condition --------%\n",
    "        # note: used both before and after burn\n",
    "        if t_sim[i] < t_ignite or t_sim[i] >= t_ignite + burn_time:\n",
    "            # no thrust so...\n",
    "            thrust_force[i,:] = np.zeros(3)\n",
    "            thrust_torque[i,:] = np.zeros(3)\n",
    "            phi_save[i] = 0\n",
    "            theta_save[i] = 0     # Define as zero after engine stops thrusting\n",
    "\n",
    "            # translation motion\n",
    "            # update rocket position for next time step based on current position and applicable forces\n",
    "            acc[i+1,:] = g + aero_force[i,:] / m\n",
    "            p[i+1,:] = p[i,:] + v[i,:] * dt + 0.5 * acc[i+1,:] * dt**2\n",
    "            v[i+1,:] = v[i,:] + acc[i+1,:] * dt\n",
    "\n",
    "        #-------- power descent --------%\n",
    "        else:\n",
    "            # print(f\"time: {t_sim[i]})\")\n",
    "            # Control in general is calculated about every 0.04 seconds\n",
    "            if j == 0 or j%4 == 0:\n",
    "                thrust_torque[i,:], thrust_force[i,:], phi_save[i], theta_save[i] = tvc_sim_obj.tvc_control( q[i-3,:], omega[i- 3,:], j, phi_save[i-1],theta_save[i-1] )\n",
    "        \n",
    "            # between these larger control steps, the control output is maintained at the most recent values returned by tvc_control\n",
    "            else:                   \n",
    "                thrust_force[i,:] = thrust_force[i-1,:]\n",
    "                thrust_torque[i,:] = thrust_torque[i-1,:]\n",
    "                theta_save[i] = theta_save[i-1]\n",
    "                phi_save[i] = phi_save[i-1]\n",
    "\n",
    "            # translation motion\n",
    "            # update rocket position for next time step based on current position and applicable forces\n",
    "            acc[i+1,:] = g + rot @ thrust_force[i,:]/m + aero_force[i,:] / m    # rotate thrust force into inertial frame\n",
    "            p[i+1,:] = p[i,:] + v[i,:] * dt + 0.5 * acc[i,:] * dt**2\n",
    "            v[i+1,:] = v[i,:] + acc[i+1,:] * dt\n",
    "            # update mass\n",
    "            mdot = -tvc_sim_obj.thrust_curve[j]/(9.81*Isp)\n",
    "            m = m + mdot * dt\n",
    "            # update thrust time step\n",
    "            j += 1\n",
    "    \n",
    "\n",
    "        # update total torque acting on rocket \n",
    "        torque[i+1,:] = thrust_torque[i,:] + aero_torque[i,:]\n",
    "\n",
    "        # update simulation time step\n",
    "        i += 1\n",
    "\n",
    "        #-------- landed --------%\n",
    "        if  p[i,2] <= 0.:\n",
    "            #trim remaining zeros...\n",
    "            p = p[:i,:]\n",
    "            v = v[:i,:]\n",
    "            acc = acc[:i,:]\n",
    "            z_i = z_i[:i,:]\n",
    "            z_angle = z_angle[:i]\n",
    "            q = q[:i,:]\n",
    "            phi_save = phi_save[:i]\n",
    "            theta_save = theta_save[:i]\n",
    "            #...and exit the while loop\n",
    "            break \n",
    "\n",
    "    return (p,v,z_angle,phi_save,theta_save,t_sim)"
   ]
  },
  {
   "cell_type": "code",
   "execution_count": 41,
   "metadata": {},
   "outputs": [
    {
     "name": "stdout",
     "output_type": "stream",
     "text": [
      "F of guess:\n",
      "-7.386053378199735\n"
     ]
    }
   ],
   "source": [
    "def cost(params, max_wind=1.4, max_angvel=3, num_sims=20):\n",
    "\n",
    "    (t_ignite, Kp, Kd) = params\n",
    "\n",
    "    net_v = 0\n",
    "    net_ang = 0\n",
    "\n",
    "    rand3s = np.random.multivariate_normal([0, 0, 0], np.diag([0.5, 0.5, 0.1]), num_sims+1)\n",
    "    for i in range(num_sims):\n",
    "        wind = rand3s[i]\n",
    "        omega_init = rand3s[i+1]*0.1\n",
    "        # print(wind, omega_init)\n",
    "\n",
    "        \n",
    "        (p,v,z_angle,phi_save,theta_save,t_sim) = simulate(t_ignite, Kp, Kd, drop_height, fin_area, lever_c, lever_f,wind,omega_init)\n",
    "        net_v += v[-1,2]\n",
    "        net_ang += -z_angle[-1] * 10\n",
    "\n",
    "        # print(net_v/(i+1), net_ang/(i+1))\n",
    "    avg_v = net_v/num_sims\n",
    "    avg_ang = net_ang/num_sims\n",
    "    # print(f\"avg v: {avg_v}\")\n",
    "    # print(f\"avg ang: {avg_ang}\")\n",
    "    net_cost = avg_v + avg_ang\n",
    "    return net_cost\n",
    "\n",
    "fit_func = cost\n",
    "    \n",
    "guess = (1.2, 0.04, 0.0)\n",
    "print(\"F of guess:\")\n",
    "print(fit_func(guess))"
   ]
  },
  {
   "cell_type": "code",
   "execution_count": 42,
   "metadata": {},
   "outputs": [],
   "source": [
    "NPARAMS = 3        # make this a 100-dimensinal problem.\n",
    "NPOPULATION = 20    # use population size of 101.\n",
    "MAX_ITERATION = 10 # run each solver for 5000 generations."
   ]
  },
  {
   "cell_type": "code",
   "execution_count": 43,
   "metadata": {},
   "outputs": [
    {
     "name": "stdout",
     "output_type": "stream",
     "text": [
      "(5_w,10)-aCMA-ES (mu_w=3.2,w_1=45%) in dimension 3 (seed=392569, Sat Nov 12 00:11:25 2022)\n"
     ]
    }
   ],
   "source": [
    "# defines a function to use solver to solve fit_func\n",
    "def test_solver(solver):\n",
    "  history = []\n",
    "  for j in range(MAX_ITERATION):\n",
    "    solutions = solver.ask()\n",
    "    # if j == 0:\n",
    "    #   solutions = np.full((NPOPULATION, NPARAMS), guess)\n",
    "\n",
    "    # print(solutions)\n",
    "\n",
    "    fitness_list = np.zeros(solver.popsize)\n",
    "    for i in range(solver.popsize):\n",
    "      fitness_list[i] = fit_func(solutions[i])\n",
    "\n",
    "    solver.tell(fitness_list)\n",
    "    result = solver.result() # first element is the best solution, second element is the best fitness\n",
    "    history.append(result[1])\n",
    "    if (j+1) % 1 == 0:\n",
    "      print(\"fitness at iteration\", (j+1), result[1], result[0], solver.rms_stdev())\n",
    "  print(\"local optimum discovered by solver:\\n\", result[0])\n",
    "  print(\"fitness score at this local optimum:\", result[1])\n",
    "  return history\n",
    "\n",
    "# defines CMA-ES algorithm solver\n",
    "cmaes = CMAES(NPARAMS,\n",
    "  x0=guess,\n",
    "  popsize=NPOPULATION,\n",
    "  weight_decay=0.0,\n",
    "  sigma_init = 0.01\n",
    ")"
   ]
  },
  {
   "cell_type": "code",
   "execution_count": 44,
   "metadata": {},
   "outputs": [
    {
     "name": "stdout",
     "output_type": "stream",
     "text": [
      "fitness at iteration 1 -7.357890109856441 [1.18244232e+00 4.51122572e-02 1.39688684e-04] 0.01370770770689079\n",
      "fitness at iteration 2 -7.190197846612579 [1.16758086 0.02996456 0.01273232] 0.019186011840243697\n",
      "fitness at iteration 3 -7.177005558366178 [1.18399264 0.02892497 0.01883108] 0.015508236909823933\n",
      "fitness at iteration 4 -7.141849516239519 [1.17840192 0.01802852 0.00533142] 0.020194588578827725\n",
      "fitness at iteration 5 -7.141849516239519 [1.17840192 0.01802852 0.00533142] 0.019675170912070532\n",
      "fitness at iteration 6 -7.141849516239519 [1.17840192 0.01802852 0.00533142] 0.02357378457843499\n",
      "fitness at iteration 7 -7.076262690886031 [1.16817465 0.0084219  0.01076641] 0.019483206802833608\n",
      "fitness at iteration 8 -7.076262690886031 [1.16817465 0.0084219  0.01076641] 0.016406035955195013\n",
      "fitness at iteration 9 -7.076262690886031 [1.16817465 0.0084219  0.01076641] 0.01487922873863278\n",
      "fitness at iteration 10 -7.076262690886031 [1.16817465 0.0084219  0.01076641] 0.012306821888079258\n",
      "local optimum discovered by solver:\n",
      " [1.16817465 0.0084219  0.01076641]\n",
      "fitness score at this local optimum: -7.076262690886031\n"
     ]
    }
   ],
   "source": [
    "cma_history = test_solver(cmaes)"
   ]
  },
  {
   "cell_type": "code",
   "execution_count": 46,
   "metadata": {},
   "outputs": [
    {
     "data": {
      "text/plain": [
       "[-7.357890109856441,\n",
       " -7.190197846612579,\n",
       " -7.177005558366178,\n",
       " -7.141849516239519,\n",
       " -7.141849516239519,\n",
       " -7.141849516239519,\n",
       " -7.076262690886031,\n",
       " -7.076262690886031,\n",
       " -7.076262690886031,\n",
       " -7.076262690886031]"
      ]
     },
     "execution_count": 46,
     "metadata": {},
     "output_type": "execute_result"
    }
   ],
   "source": []
  },
  {
   "cell_type": "code",
   "execution_count": 45,
   "metadata": {},
   "outputs": [
    {
     "data": {
      "image/png": "[encoded data removed]",
      "text/plain": [
       "<Figure size 2400x1200 with 1 Axes>"
      ]
     },
     "metadata": {
      "needs_background": "light"
     },
     "output_type": "display_data"
    }
   ],
   "source": [
    "# Create a new figure of size 8x6 points, using 100 dots per inch\n",
    "best_history = [0] * MAX_ITERATION\n",
    "plt.figure(figsize=(16,8), dpi=150)\n",
    "\n",
    "optimum_line, = plt.plot(best_history, color=\"black\", linewidth=0.5, linestyle=\"-.\", label='Global Optimum')\n",
    "cma_line, = plt.plot(cma_history, color=\"red\", linewidth=1.0, linestyle=\"-\", label='CMA-ES')\n",
    "\n",
    "# Set x limits\n",
    "plt.xlim(0,MAX_ITERATION)\n",
    "\n",
    "plt.xlabel('generation')\n",
    "plt.ylabel('fitness')\n",
    "\n",
    "# plt.savefig(\"./rastrigin_10d.svg\")\n",
    "\n",
    "plt.show()"
   ]
  }
 ],
 "metadata": {
  "kernelspec": {
   "display_name": "Python 3.10.6 64-bit",
   "language": "python",
   "name": "python3"
  },
  "language_info": {
   "codemirror_mode": {
    "name": "ipython",
    "version": 3
   },
   "file_extension": ".py",
   "mimetype": "text/x-python",
   "name": "python",
   "nbconvert_exporter": "python",
   "pygments_lexer": "ipython3",
   "version": "3.10.6"
  },
  "orig_nbformat": 4,
  "vscode": {
   "interpreter": {
    "hash": "aee8b7b246df8f9039afb4144a1f6fd8d2ca17a180786b69acc140d282b71a49"
   }
  }
 },
 "nbformat": 4,
 "nbformat_minor": 2
}
